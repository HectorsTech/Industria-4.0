{
 "cells": [
  {
   "cell_type": "code",
   "execution_count": null,
   "metadata": {},
   "outputs": [],
   "source": []
  },
  {
   "cell_type": "code",
   "execution_count": 1,
   "metadata": {},
   "outputs": [
    {
     "name": "stderr",
     "output_type": "stream",
     "text": [
      "C:\\Users\\Hogar\\AppData\\Local\\Temp\\ipykernel_2800\\67329440.py:17: RuntimeWarning: overflow encountered in scalar add\n",
      "  img[i, j, 1] += random.randint(0, 255)  # Canal verde\n",
      "C:\\Users\\Hogar\\AppData\\Local\\Temp\\ipykernel_2800\\67329440.py:18: RuntimeWarning: overflow encountered in scalar add\n",
      "  img[i, j, 0] += random.randint(0, 255)  # Canal rojo\n"
     ]
    },
    {
     "data": {
      "text/plain": [
       "True"
      ]
     },
     "execution_count": 1,
     "metadata": {},
     "output_type": "execute_result"
    }
   ],
   "source": [
    "import cv2\n",
    "import numpy as np\n",
    "import random\n",
    "\n",
    "# Crear una imagen en blanco\n",
    "height, width = 400, 800\n",
    "img = np.ones((height, width, 3), np.uint8) * 255\n",
    "\n",
    "# Escribir el mensaje oculto en azul\n",
    "mensaje = \"Secreto!\"\n",
    "font = cv2.FONT_HERSHEY_SIMPLEX\n",
    "cv2.putText(img, mensaje, (50, 200), font, 3, (250, 255, 250), 10, cv2.LINE_AA)\n",
    "\n",
    "# Añadir ruido en los canales rojo y verde\n",
    "for i in range(height):\n",
    "    for j in range(width):\n",
    "        img[i, j, 1] += random.randint(0, 255)  # Canal verde\n",
    "        img[i, j, 0] += random.randint(0, 255)  # Canal rojo\n",
    "\n",
    "# Guardar la imagen\n",
    "cv2.imwrite('imagen_oculta_con_ruido.png', img)"
   ]
  }
 ],
 "metadata": {
  "kernelspec": {
   "display_name": "Python 3",
   "language": "python",
   "name": "python3"
  },
  "language_info": {
   "codemirror_mode": {
    "name": "ipython",
    "version": 3
   },
   "file_extension": ".py",
   "mimetype": "text/x-python",
   "name": "python",
   "nbconvert_exporter": "python",
   "pygments_lexer": "ipython3",
   "version": "3.12.4"
  }
 },
 "nbformat": 4,
 "nbformat_minor": 2
}
